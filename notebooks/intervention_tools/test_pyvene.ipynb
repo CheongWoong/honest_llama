{
 "cells": [
  {
   "cell_type": "code",
   "execution_count": 1,
   "metadata": {},
   "outputs": [],
   "source": [
    "# Set GPU ID\n",
    "import os\n",
    "os.environ[\"CUDA_DEVICE_ORDER\"]=\"PCI_BUS_ID\"\n",
    "os.environ[\"CUDA_VISIBLE_DEVICES\"]= \"3\""
   ]
  },
  {
   "cell_type": "code",
   "execution_count": 2,
   "metadata": {},
   "outputs": [],
   "source": [
    "import torch\n",
    "from transformers import AutoTokenizer, AutoModelForCausalLM\n",
    "import pyvene as pv"
   ]
  },
  {
   "cell_type": "code",
   "execution_count": 3,
   "metadata": {},
   "outputs": [
    {
     "name": "stderr",
     "output_type": "stream",
     "text": [
      "/home/cheongwoong/miniconda3/envs/iti/lib/python3.8/site-packages/huggingface_hub/file_download.py:1150: FutureWarning: `resume_download` is deprecated and will be removed in version 1.0.0. Downloads always resume when possible. If you want to force a new download, use `force_download=True`.\n",
      "  warnings.warn(\n",
      "Special tokens have been added in the vocabulary, make sure the associated word embeddings are fine-tuned or trained.\n"
     ]
    },
    {
     "data": {
      "application/vnd.jupyter.widget-view+json": {
       "model_id": "9cd7d6e00fa549b1b178509c2d6c9629",
       "version_major": 2,
       "version_minor": 0
      },
      "text/plain": [
       "Loading checkpoint shards:   0%|          | 0/4 [00:00<?, ?it/s]"
      ]
     },
     "metadata": {},
     "output_type": "display_data"
    },
    {
     "name": "stdout",
     "output_type": "stream",
     "text": [
      "\n"
     ]
    }
   ],
   "source": [
    "# Initialize model\n",
    "MODELS = {\n",
    "    'llama3_8B': 'meta-llama/Meta-Llama-3-8B',\n",
    "    'llama3_8B_instruct': 'meta-llama/Meta-Llama-3-8B-Instruct',\n",
    "}\n",
    "\n",
    "model_name = 'llama3_8B'\n",
    "MODEL = MODELS[model_name]\n",
    "\n",
    "tokenizer = AutoTokenizer.from_pretrained(MODEL)\n",
    "model = AutoModelForCausalLM.from_pretrained(MODEL, low_cpu_mem_usage=True, torch_dtype=torch.float16, device_map=\"auto\")\n",
    "model.eval()\n",
    "print()"
   ]
  },
  {
   "cell_type": "code",
   "execution_count": 4,
   "metadata": {},
   "outputs": [
    {
     "data": {
      "text/plain": [
       "torch.Size([32, 4096])"
      ]
     },
     "execution_count": 4,
     "metadata": {},
     "output_type": "execute_result"
    }
   ],
   "source": [
    "# Collect activations and compute direction\n",
    "probing_config = pv.IntervenableConfig(\n",
    "    [{\"layer\": layer, \"component\": f\"model.layers.{layer}.output\", \"intervention_type\": pv.CollectIntervention} for layer in range(model.config.num_hidden_layers)] +\n",
    "    [{\"layer\": layer, \"component\": f\"model.layers.{layer}.self_attn.o_proj.input\", \"intervention_type\": pv.CollectIntervention} for layer in range(model.config.num_hidden_layers)]\n",
    ")\n",
    "intervenable = pv.IntervenableModel(probing_config, model)\n",
    "intervenable.disable_model_gradients()\n",
    "\n",
    "prompt = \"I talk about weddings constantly\"\n",
    "input = tokenizer(prompt, return_tensors = 'pt').to('cuda')\n",
    "output, _ = intervenable(input)\n",
    "layer_wise_hidden_states = [output[1][layer].squeeze().detach().cpu() for layer in range(model.config.num_hidden_layers)]\n",
    "layer_wise_hidden_states = torch.stack(layer_wise_hidden_states, dim = 0).squeeze().numpy()\n",
    "head_wise_hidden_states = [output[1][layer].squeeze().detach().cpu() for layer in range(model.config.num_hidden_layers, model.config.num_hidden_layers*2)]\n",
    "head_wise_hidden_states = torch.stack(head_wise_hidden_states, dim = 0).squeeze().numpy()\n",
    "pos = head_wise_hidden_states[:,-1,:]\n",
    "\n",
    "prompt = \"I do not talk about weddings constantly\"\n",
    "input = tokenizer(prompt, return_tensors = 'pt').to('cuda')\n",
    "output, _ = intervenable(input)\n",
    "layer_wise_hidden_states = [output[1][layer].squeeze().detach().cpu() for layer in range(model.config.num_hidden_layers)]\n",
    "layer_wise_hidden_states = torch.stack(layer_wise_hidden_states, dim = 0).squeeze().numpy()\n",
    "head_wise_hidden_states = [output[1][layer].squeeze().detach().cpu() for layer in range(model.config.num_hidden_layers, model.config.num_hidden_layers*2)]\n",
    "head_wise_hidden_states = torch.stack(head_wise_hidden_states, dim = 0).squeeze().numpy()\n",
    "neg = head_wise_hidden_states[:,-1,:]\n",
    "\n",
    "direction = pos - neg\n",
    "direction = torch.from_numpy(direction).to('cuda')\n",
    "direction.shape"
   ]
  },
  {
   "cell_type": "code",
   "execution_count": 5,
   "metadata": {},
   "outputs": [
    {
     "name": "stderr",
     "output_type": "stream",
     "text": [
      "/home/cheongwoong/miniconda3/envs/iti/lib/python3.8/site-packages/transformers/generation/configuration_utils.py:492: UserWarning: `do_sample` is set to `False`. However, `temperature` is set to `0.6` -- this flag is only used in sample-based generation modes. You should set `do_sample=True` or unset `temperature`.\n",
      "  warnings.warn(\n",
      "/home/cheongwoong/miniconda3/envs/iti/lib/python3.8/site-packages/transformers/generation/configuration_utils.py:497: UserWarning: `do_sample` is set to `False`. However, `top_p` is set to `0.9` -- this flag is only used in sample-based generation modes. You should set `do_sample=True` or unset `top_p`.\n",
      "  warnings.warn(\n",
      "Setting `pad_token_id` to `eos_token_id`:128001 for open-end generation.\n"
     ]
    },
    {
     "name": "stderr",
     "output_type": "stream",
     "text": [
      "Setting `pad_token_id` to `eos_token_id`:128001 for open-end generation.\n"
     ]
    },
    {
     "name": "stdout",
     "output_type": "stream",
     "text": [
      "Baseline: I went up to my friend and said, \"I'm sorry, but I have to tell you something. I'm a lesbian.\"\n",
      "She looked at me and said, \"I'm sorry, but I have to tell you something. I'm a lesbian too.\"\n",
      "I said, \"Oh, no, I'm not a lesbian. I'm just gay.\"\n",
      "\n",
      "\n",
      "ITI: I went up to my friend and said, \"I'm going to be a father!\" \"So you're going to be a father?\" he said. \"Yeah, I can't wait, man. I can't wait.\" \"You can live with us, too... just put a roof over your head.\"\n"
     ]
    }
   ],
   "source": [
    "add_intervention_config = pv.IntervenableConfig(\n",
    "    [{\"layer\": layer, \"component\": f\"model.layers.{layer}.self_attn.o_proj.input\", \"intervention\": pv.AdditionIntervention(source_representation=direction[layer])} for layer in range(model.config.num_hidden_layers)]\n",
    ")\n",
    "intervenable = pv.IntervenableModel(add_intervention_config, model)\n",
    "intervenable.disable_model_gradients()\n",
    "\n",
    "prompt = \"I went up to my friend and said\"\n",
    "input = tokenizer(prompt, return_tensors = 'pt').to('cuda')\n",
    "response, iti_response = intervenable.generate(input, max_new_tokens=64, do_sample=False, output_original_output=True)\n",
    "\n",
    "print('Baseline:', tokenizer.decode(response[0], skip_special_tokens=True))\n",
    "print()\n",
    "print('ITI:', tokenizer.decode(iti_response[0], skip_special_tokens=True))"
   ]
  },
  {
   "cell_type": "code",
   "execution_count": null,
   "metadata": {},
   "outputs": [],
   "source": []
  }
 ],
 "metadata": {
  "kernelspec": {
   "display_name": "iti",
   "language": "python",
   "name": "python3"
  },
  "language_info": {
   "codemirror_mode": {
    "name": "ipython",
    "version": 3
   },
   "file_extension": ".py",
   "mimetype": "text/x-python",
   "name": "python",
   "nbconvert_exporter": "python",
   "pygments_lexer": "ipython3",
   "version": "3.8.15"
  }
 },
 "nbformat": 4,
 "nbformat_minor": 2
}
